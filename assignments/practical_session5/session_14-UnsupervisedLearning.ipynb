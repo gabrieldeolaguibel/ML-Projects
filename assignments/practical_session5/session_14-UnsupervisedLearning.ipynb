{
 "cells": [
  {
   "attachments": {},
   "cell_type": "markdown",
   "metadata": {},
   "source": [
    "# Problem Description\n",
    "Anomaly detection aims at finding unexpected or rare events in data streams, commonly referred to as anomalous events. Detecting anomalies could be useful directly or as a first insight to find new knowledge in the data. Anomaly detection is fundamental in many applications, most notably in real-time applications, where spotting anomalies is vital such as in health, critical infrastructures, security applications, to name a few.\n",
    "\n",
    "The objective of Unsupervised Anomaly Detection is to detect previously unseen rare objects or events without any prior knowledge about these. The only information available is that the percentage of anomalies in the dataset is small, usually less than 1%. Since anomalies are rare and unknown to the user at training time, anomaly detection in most cases boils down to the problem of modelling the normal data distribution and defining a measurement in this space in order to classify samples as anomalous or normal. \n",
    "\n",
    "In this session, use the Fraud Detection dataset of the session (creditcardfraud_normalised.csv) to train an unsupervised algorithm for anomaly detection:\n",
    "* Test K-Means algorithm\n",
    "* Search other popular methods for this task and compare to the previous one."
   ]
  },
  {
   "cell_type": "code",
   "execution_count": null,
   "metadata": {
    "vscode": {
     "languageId": "plaintext"
    }
   },
   "outputs": [],
   "source": []
  }
 ],
 "metadata": {
  "kernelspec": {
   "display_name": "Python 3.8.13 ('ie')",
   "language": "python",
   "name": "python3"
  },
  "language_info": {
   "codemirror_mode": {
    "name": "ipython",
    "version": 3
   },
   "file_extension": ".py",
   "mimetype": "text/x-python",
   "name": "python",
   "nbconvert_exporter": "python",
   "pygments_lexer": "ipython3",
   "version": "3.8.13"
  },
  "orig_nbformat": 4,
  "vscode": {
   "interpreter": {
    "hash": "aabefc3a81ff71d22e79c910c13565d5b56128baa52886a9550231a214b71dcd"
   }
  }
 },
 "nbformat": 4,
 "nbformat_minor": 2
}
