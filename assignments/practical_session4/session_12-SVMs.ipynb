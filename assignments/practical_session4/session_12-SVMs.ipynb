{
 "cells": [
  {
   "cell_type": "markdown",
   "metadata": {},
   "source": [
    "# Machine Learning Exercise - Support Vector Machines"
   ]
  },
  {
   "cell_type": "markdown",
   "metadata": {},
   "source": [
    "The idea of this exercise is to use support vector machines (SVMs) to build a spam classifier.  "
   ]
  },
  {
   "cell_type": "markdown",
   "metadata": {},
   "source": [
    "We'll start with SVMs on some 2D data sets.  Then we'll do some pre-processing work on a set of raw emails and build a classifier using a SVM to determine if they are spam or not."
   ]
  },
  {
   "cell_type": "markdown",
   "metadata": {},
   "source": [
    "1) Load the dataset \"session12_data1.mat\". Explore the data and see how a linear SVM works on the data set for several values of C. Start from C=1. Compare the results and look at the confidence level for each class prediction. Comment the results."
   ]
  },
  {
   "cell_type": "markdown",
   "metadata": {},
   "source": [
    "2) Move from a linear SVM to one that's capable of non-linear classification using kernels. Test the gaussian kernel function. Comment the results."
   ]
  },
  {
   "cell_type": "markdown",
   "metadata": {},
   "source": [
    "3) Examine another data set, this time with a non-linear decision boundary: \"session12_data2.mat\". Explore the data and use a Gaussian kernel with the SVM for classification. Comment the results."
   ]
  },
  {
   "cell_type": "markdown",
   "metadata": {},
   "source": [
    "4) Load the third data set \"session12_data3.mat\". Here we have training and validation sets and our task is to use the cross validation set to determine the best C and σ parameter to use, based on validation set performance."
   ]
  },
  {
   "cell_type": "markdown",
   "metadata": {},
   "source": [
    "5) Finally, we implement a spam classifier with a SVM. Use the data \"session12_spamTrain.mat\" and \"session12_spamTest.mat\"."
   ]
  }
 ],
 "metadata": {
  "kernelspec": {
   "display_name": "Python 3.8.13 ('ie')",
   "language": "python",
   "name": "python3"
  },
  "language_info": {
   "codemirror_mode": {
    "name": "ipython",
    "version": 3
   },
   "file_extension": ".py",
   "mimetype": "text/x-python",
   "name": "python",
   "nbconvert_exporter": "python",
   "pygments_lexer": "ipython3",
   "version": "3.8.13"
  },
  "orig_nbformat": 4,
  "vscode": {
   "interpreter": {
    "hash": "aabefc3a81ff71d22e79c910c13565d5b56128baa52886a9550231a214b71dcd"
   }
  }
 },
 "nbformat": 4,
 "nbformat_minor": 2
}
