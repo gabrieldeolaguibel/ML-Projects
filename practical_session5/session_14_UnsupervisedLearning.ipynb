{
  "cells": [
    {
      "cell_type": "markdown",
      "metadata": {
        "id": "laqISUIFwlzu"
      },
      "source": [
        "# Problem Description\n",
        "Anomaly detection aims at finding unexpected or rare events in data streams, commonly referred to as anomalous events. Detecting anomalies could be useful directly or as a first insight to find new knowledge in the data. Anomaly detection is fundamental in many applications, most notably in real-time applications, where spotting anomalies is vital such as in health, critical infrastructures, security applications, to name a few.\n",
        "\n",
        "The objective of Unsupervised Anomaly Detection is to detect previously unseen rare objects or events without any prior knowledge about these. The only information available is that the percentage of anomalies in the dataset is small, usually less than 1%. Since anomalies are rare and unknown to the user at training time, anomaly detection in most cases boils down to the problem of modelling the normal data distribution and defining a measurement in this space in order to classify samples as anomalous or normal.\n",
        "\n",
        "In this session, use the Fraud Detection dataset of the session (creditcardfraud_normalised.csv) to train an unsupervised algorithm for anomaly detection:\n",
        "* Test K-Means algorithm\n",
        "* Search other popular methods for this task and compare to the previous one."
      ]
    },
    {
      "cell_type": "markdown",
      "metadata": {
        "id": "MbDl2gQewlzv"
      },
      "source": [
        "## Google Colab link: https://colab.research.google.com/drive/1BhArUVKtiReGEE22Sywktt17_0BAZh8r?usp=sharing"
      ]
    },
    {
      "cell_type": "code",
      "execution_count": null,
      "metadata": {
        "id": "DsND6CUqwlzv"
      },
      "outputs": [],
      "source": [
        "# Imports\n",
        "import numpy as np\n",
        "import pandas as pd\n",
        "from sklearn.preprocessing import StandardScaler\n",
        "from sklearn.cluster import KMeans\n",
        "import matplotlib.pyplot as plt\n",
        "import seaborn as sns\n",
        "from sklearn.model_selection import train_test_split\n",
        "from sklearn.metrics import silhouette_score\n",
        "from scipy.spatial.distance import cdist\n",
        "from sklearn.metrics import classification_report, confusion_matrix\n",
        "from sklearn.ensemble import IsolationForest"
      ]
    },
    {
      "cell_type": "markdown",
      "metadata": {
        "id": "6PZXLsyTwlzw"
      },
      "source": [
        "## 1. Load and Explore the dataset"
      ]
    },
    {
      "cell_type": "code",
      "execution_count": null,
      "metadata": {
        "id": "E5NiE8CAwlzw",
        "outputId": "3842be6b-22cb-467c-8096-6b974192b360"
      },
      "outputs": [
        {
          "data": {
            "text/html": [
              "<div>\n",
              "<style scoped>\n",
              "    .dataframe tbody tr th:only-of-type {\n",
              "        vertical-align: middle;\n",
              "    }\n",
              "\n",
              "    .dataframe tbody tr th {\n",
              "        vertical-align: top;\n",
              "    }\n",
              "\n",
              "    .dataframe thead th {\n",
              "        text-align: right;\n",
              "    }\n",
              "</style>\n",
              "<table border=\"1\" class=\"dataframe\">\n",
              "  <thead>\n",
              "    <tr style=\"text-align: right;\">\n",
              "      <th></th>\n",
              "      <th>V1</th>\n",
              "      <th>V2</th>\n",
              "      <th>V3</th>\n",
              "      <th>V4</th>\n",
              "      <th>V5</th>\n",
              "      <th>V6</th>\n",
              "      <th>V7</th>\n",
              "      <th>V8</th>\n",
              "      <th>V9</th>\n",
              "      <th>V10</th>\n",
              "      <th>...</th>\n",
              "      <th>V21</th>\n",
              "      <th>V22</th>\n",
              "      <th>V23</th>\n",
              "      <th>V24</th>\n",
              "      <th>V25</th>\n",
              "      <th>V26</th>\n",
              "      <th>V27</th>\n",
              "      <th>V28</th>\n",
              "      <th>Amount</th>\n",
              "      <th>class</th>\n",
              "    </tr>\n",
              "  </thead>\n",
              "  <tbody>\n",
              "    <tr>\n",
              "      <th>0</th>\n",
              "      <td>0.935192</td>\n",
              "      <td>0.766490</td>\n",
              "      <td>0.881365</td>\n",
              "      <td>0.313023</td>\n",
              "      <td>0.763439</td>\n",
              "      <td>0.267669</td>\n",
              "      <td>0.266815</td>\n",
              "      <td>0.786444</td>\n",
              "      <td>0.475312</td>\n",
              "      <td>0.510600</td>\n",
              "      <td>...</td>\n",
              "      <td>0.561184</td>\n",
              "      <td>0.522992</td>\n",
              "      <td>0.663793</td>\n",
              "      <td>0.391253</td>\n",
              "      <td>0.585122</td>\n",
              "      <td>0.394557</td>\n",
              "      <td>0.418976</td>\n",
              "      <td>0.312697</td>\n",
              "      <td>0.005824</td>\n",
              "      <td>0</td>\n",
              "    </tr>\n",
              "    <tr>\n",
              "      <th>1</th>\n",
              "      <td>0.978542</td>\n",
              "      <td>0.770067</td>\n",
              "      <td>0.840298</td>\n",
              "      <td>0.271796</td>\n",
              "      <td>0.766120</td>\n",
              "      <td>0.262192</td>\n",
              "      <td>0.264875</td>\n",
              "      <td>0.786298</td>\n",
              "      <td>0.453981</td>\n",
              "      <td>0.505267</td>\n",
              "      <td>...</td>\n",
              "      <td>0.557840</td>\n",
              "      <td>0.480237</td>\n",
              "      <td>0.666938</td>\n",
              "      <td>0.336440</td>\n",
              "      <td>0.587290</td>\n",
              "      <td>0.446013</td>\n",
              "      <td>0.416345</td>\n",
              "      <td>0.313423</td>\n",
              "      <td>0.000105</td>\n",
              "      <td>0</td>\n",
              "    </tr>\n",
              "    <tr>\n",
              "      <th>2</th>\n",
              "      <td>0.935217</td>\n",
              "      <td>0.753118</td>\n",
              "      <td>0.868141</td>\n",
              "      <td>0.268766</td>\n",
              "      <td>0.762329</td>\n",
              "      <td>0.281122</td>\n",
              "      <td>0.270177</td>\n",
              "      <td>0.788042</td>\n",
              "      <td>0.410603</td>\n",
              "      <td>0.513018</td>\n",
              "      <td>...</td>\n",
              "      <td>0.565477</td>\n",
              "      <td>0.546030</td>\n",
              "      <td>0.678939</td>\n",
              "      <td>0.289354</td>\n",
              "      <td>0.559515</td>\n",
              "      <td>0.402727</td>\n",
              "      <td>0.415489</td>\n",
              "      <td>0.311911</td>\n",
              "      <td>0.014739</td>\n",
              "      <td>0</td>\n",
              "    </tr>\n",
              "    <tr>\n",
              "      <th>3</th>\n",
              "      <td>0.941878</td>\n",
              "      <td>0.765304</td>\n",
              "      <td>0.868484</td>\n",
              "      <td>0.213661</td>\n",
              "      <td>0.765647</td>\n",
              "      <td>0.275559</td>\n",
              "      <td>0.266803</td>\n",
              "      <td>0.789434</td>\n",
              "      <td>0.414999</td>\n",
              "      <td>0.507585</td>\n",
              "      <td>...</td>\n",
              "      <td>0.559734</td>\n",
              "      <td>0.510277</td>\n",
              "      <td>0.662607</td>\n",
              "      <td>0.223826</td>\n",
              "      <td>0.614245</td>\n",
              "      <td>0.389197</td>\n",
              "      <td>0.417669</td>\n",
              "      <td>0.314371</td>\n",
              "      <td>0.004807</td>\n",
              "      <td>0</td>\n",
              "    </tr>\n",
              "    <tr>\n",
              "      <th>4</th>\n",
              "      <td>0.938617</td>\n",
              "      <td>0.776520</td>\n",
              "      <td>0.864251</td>\n",
              "      <td>0.269796</td>\n",
              "      <td>0.762975</td>\n",
              "      <td>0.263984</td>\n",
              "      <td>0.268968</td>\n",
              "      <td>0.782484</td>\n",
              "      <td>0.490950</td>\n",
              "      <td>0.524303</td>\n",
              "      <td>...</td>\n",
              "      <td>0.561327</td>\n",
              "      <td>0.547271</td>\n",
              "      <td>0.663392</td>\n",
              "      <td>0.401270</td>\n",
              "      <td>0.566343</td>\n",
              "      <td>0.507497</td>\n",
              "      <td>0.420561</td>\n",
              "      <td>0.317490</td>\n",
              "      <td>0.002724</td>\n",
              "      <td>0</td>\n",
              "    </tr>\n",
              "  </tbody>\n",
              "</table>\n",
              "<p>5 rows × 30 columns</p>\n",
              "</div>"
            ],
            "text/plain": [
              "         V1        V2        V3        V4        V5        V6        V7   \n",
              "0  0.935192  0.766490  0.881365  0.313023  0.763439  0.267669  0.266815  \\\n",
              "1  0.978542  0.770067  0.840298  0.271796  0.766120  0.262192  0.264875   \n",
              "2  0.935217  0.753118  0.868141  0.268766  0.762329  0.281122  0.270177   \n",
              "3  0.941878  0.765304  0.868484  0.213661  0.765647  0.275559  0.266803   \n",
              "4  0.938617  0.776520  0.864251  0.269796  0.762975  0.263984  0.268968   \n",
              "\n",
              "         V8        V9       V10  ...       V21       V22       V23       V24   \n",
              "0  0.786444  0.475312  0.510600  ...  0.561184  0.522992  0.663793  0.391253  \\\n",
              "1  0.786298  0.453981  0.505267  ...  0.557840  0.480237  0.666938  0.336440   \n",
              "2  0.788042  0.410603  0.513018  ...  0.565477  0.546030  0.678939  0.289354   \n",
              "3  0.789434  0.414999  0.507585  ...  0.559734  0.510277  0.662607  0.223826   \n",
              "4  0.782484  0.490950  0.524303  ...  0.561327  0.547271  0.663392  0.401270   \n",
              "\n",
              "        V25       V26       V27       V28    Amount  class  \n",
              "0  0.585122  0.394557  0.418976  0.312697  0.005824      0  \n",
              "1  0.587290  0.446013  0.416345  0.313423  0.000105      0  \n",
              "2  0.559515  0.402727  0.415489  0.311911  0.014739      0  \n",
              "3  0.614245  0.389197  0.417669  0.314371  0.004807      0  \n",
              "4  0.566343  0.507497  0.420561  0.317490  0.002724      0  \n",
              "\n",
              "[5 rows x 30 columns]"
            ]
          },
          "execution_count": 2,
          "metadata": {},
          "output_type": "execute_result"
        }
      ],
      "source": [
        "# Load the df\n",
        "df = pd.read_csv('session_14-creditcardfraud_normalised.csv')\n",
        "\n",
        "# Display the first 5 rows of the df\n",
        "df.head()"
      ]
    },
    {
      "cell_type": "code",
      "execution_count": null,
      "metadata": {
        "id": "sZD8X5Zfwlzx",
        "outputId": "c5cd7806-0e0f-4b05-f0ab-6b52a3e7ff72"
      },
      "outputs": [
        {
          "name": "stdout",
          "output_type": "stream",
          "text": [
            "<class 'pandas.core.frame.DataFrame'>\n",
            "RangeIndex: 284807 entries, 0 to 284806\n",
            "Data columns (total 30 columns):\n",
            " #   Column  Non-Null Count   Dtype  \n",
            "---  ------  --------------   -----  \n",
            " 0   V1      284807 non-null  float64\n",
            " 1   V2      284807 non-null  float64\n",
            " 2   V3      284807 non-null  float64\n",
            " 3   V4      284807 non-null  float64\n",
            " 4   V5      284807 non-null  float64\n",
            " 5   V6      284807 non-null  float64\n",
            " 6   V7      284807 non-null  float64\n",
            " 7   V8      284807 non-null  float64\n",
            " 8   V9      284807 non-null  float64\n",
            " 9   V10     284807 non-null  float64\n",
            " 10  V11     284807 non-null  float64\n",
            " 11  V12     284807 non-null  float64\n",
            " 12  V13     284807 non-null  float64\n",
            " 13  V14     284807 non-null  float64\n",
            " 14  V15     284807 non-null  float64\n",
            " 15  V16     284807 non-null  float64\n",
            " 16  V17     284807 non-null  float64\n",
            " 17  V18     284807 non-null  float64\n",
            " 18  V19     284807 non-null  float64\n",
            " 19  V20     284807 non-null  float64\n",
            " 20  V21     284807 non-null  float64\n",
            " 21  V22     284807 non-null  float64\n",
            " 22  V23     284807 non-null  float64\n",
            " 23  V24     284807 non-null  float64\n",
            " 24  V25     284807 non-null  float64\n",
            " 25  V26     284807 non-null  float64\n",
            " 26  V27     284807 non-null  float64\n",
            " 27  V28     284807 non-null  float64\n",
            " 28  Amount  284807 non-null  float64\n",
            " 29  class   284807 non-null  int64  \n",
            "dtypes: float64(29), int64(1)\n",
            "memory usage: 65.2 MB\n"
          ]
        }
      ],
      "source": [
        "# Show the basic information of the data into\n",
        "df.info()"
      ]
    },
    {
      "cell_type": "code",
      "execution_count": null,
      "metadata": {
        "id": "kCEpQN6owlzx",
        "outputId": "0dfcd9a4-7596-4579-e481-adf1b6d3da24"
      },
      "outputs": [
        {
          "data": {
            "text/plain": [
              "V1        0\n",
              "V2        0\n",
              "V3        0\n",
              "V4        0\n",
              "V5        0\n",
              "V6        0\n",
              "V7        0\n",
              "V8        0\n",
              "V9        0\n",
              "V10       0\n",
              "V11       0\n",
              "V12       0\n",
              "V13       0\n",
              "V14       0\n",
              "V15       0\n",
              "V16       0\n",
              "V17       0\n",
              "V18       0\n",
              "V19       0\n",
              "V20       0\n",
              "V21       0\n",
              "V22       0\n",
              "V23       0\n",
              "V24       0\n",
              "V25       0\n",
              "V26       0\n",
              "V27       0\n",
              "V28       0\n",
              "Amount    0\n",
              "class     0\n",
              "dtype: int64"
            ]
          },
          "execution_count": 4,
          "metadata": {},
          "output_type": "execute_result"
        }
      ],
      "source": [
        "# Check for missing values\n",
        "df.isnull().sum()"
      ]
    },
    {
      "cell_type": "code",
      "execution_count": null,
      "metadata": {
        "id": "1ztnshVxwlzx",
        "outputId": "1536eca1-b808-418a-9a75-5e4002876dbc"
      },
      "outputs": [
        {
          "data": {
            "text/html": [
              "<div>\n",
              "<style scoped>\n",
              "    .dataframe tbody tr th:only-of-type {\n",
              "        vertical-align: middle;\n",
              "    }\n",
              "\n",
              "    .dataframe tbody tr th {\n",
              "        vertical-align: top;\n",
              "    }\n",
              "\n",
              "    .dataframe thead th {\n",
              "        text-align: right;\n",
              "    }\n",
              "</style>\n",
              "<table border=\"1\" class=\"dataframe\">\n",
              "  <thead>\n",
              "    <tr style=\"text-align: right;\">\n",
              "      <th></th>\n",
              "      <th>V1</th>\n",
              "      <th>V2</th>\n",
              "      <th>V3</th>\n",
              "      <th>V4</th>\n",
              "      <th>V5</th>\n",
              "      <th>V6</th>\n",
              "      <th>V7</th>\n",
              "      <th>V8</th>\n",
              "      <th>V9</th>\n",
              "      <th>V10</th>\n",
              "      <th>...</th>\n",
              "      <th>V21</th>\n",
              "      <th>V22</th>\n",
              "      <th>V23</th>\n",
              "      <th>V24</th>\n",
              "      <th>V25</th>\n",
              "      <th>V26</th>\n",
              "      <th>V27</th>\n",
              "      <th>V28</th>\n",
              "      <th>Amount</th>\n",
              "      <th>class</th>\n",
              "    </tr>\n",
              "  </thead>\n",
              "  <tbody>\n",
              "    <tr>\n",
              "      <th>count</th>\n",
              "      <td>284807.000000</td>\n",
              "      <td>284807.000000</td>\n",
              "      <td>284807.000000</td>\n",
              "      <td>284807.000000</td>\n",
              "      <td>284807.000000</td>\n",
              "      <td>284807.000000</td>\n",
              "      <td>284807.000000</td>\n",
              "      <td>284807.000000</td>\n",
              "      <td>284807.000000</td>\n",
              "      <td>284807.000000</td>\n",
              "      <td>...</td>\n",
              "      <td>284807.000000</td>\n",
              "      <td>284807.000000</td>\n",
              "      <td>284807.000000</td>\n",
              "      <td>284807.000000</td>\n",
              "      <td>284807.000000</td>\n",
              "      <td>284807.000000</td>\n",
              "      <td>284807.000000</td>\n",
              "      <td>284807.000000</td>\n",
              "      <td>284807.000000</td>\n",
              "      <td>284807.000000</td>\n",
              "    </tr>\n",
              "    <tr>\n",
              "      <th>mean</th>\n",
              "      <td>0.958294</td>\n",
              "      <td>0.767258</td>\n",
              "      <td>0.837414</td>\n",
              "      <td>0.251930</td>\n",
              "      <td>0.765716</td>\n",
              "      <td>0.263020</td>\n",
              "      <td>0.265356</td>\n",
              "      <td>0.785385</td>\n",
              "      <td>0.462780</td>\n",
              "      <td>0.508722</td>\n",
              "      <td>...</td>\n",
              "      <td>0.561480</td>\n",
              "      <td>0.510031</td>\n",
              "      <td>0.665434</td>\n",
              "      <td>0.382234</td>\n",
              "      <td>0.577907</td>\n",
              "      <td>0.425448</td>\n",
              "      <td>0.416511</td>\n",
              "      <td>0.313124</td>\n",
              "      <td>0.003439</td>\n",
              "      <td>0.001727</td>\n",
              "    </tr>\n",
              "    <tr>\n",
              "      <th>std</th>\n",
              "      <td>0.033276</td>\n",
              "      <td>0.017424</td>\n",
              "      <td>0.026275</td>\n",
              "      <td>0.062764</td>\n",
              "      <td>0.009292</td>\n",
              "      <td>0.013395</td>\n",
              "      <td>0.007537</td>\n",
              "      <td>0.012812</td>\n",
              "      <td>0.037846</td>\n",
              "      <td>0.022528</td>\n",
              "      <td>...</td>\n",
              "      <td>0.011841</td>\n",
              "      <td>0.033854</td>\n",
              "      <td>0.009274</td>\n",
              "      <td>0.081611</td>\n",
              "      <td>0.029261</td>\n",
              "      <td>0.078771</td>\n",
              "      <td>0.007450</td>\n",
              "      <td>0.006698</td>\n",
              "      <td>0.009736</td>\n",
              "      <td>0.041527</td>\n",
              "    </tr>\n",
              "    <tr>\n",
              "      <th>min</th>\n",
              "      <td>0.000000</td>\n",
              "      <td>0.000000</td>\n",
              "      <td>0.000000</td>\n",
              "      <td>0.000000</td>\n",
              "      <td>0.000000</td>\n",
              "      <td>0.000000</td>\n",
              "      <td>0.000000</td>\n",
              "      <td>0.000000</td>\n",
              "      <td>0.000000</td>\n",
              "      <td>0.000000</td>\n",
              "      <td>...</td>\n",
              "      <td>0.000000</td>\n",
              "      <td>0.000000</td>\n",
              "      <td>0.000000</td>\n",
              "      <td>0.000000</td>\n",
              "      <td>0.000000</td>\n",
              "      <td>0.000000</td>\n",
              "      <td>0.000000</td>\n",
              "      <td>0.000000</td>\n",
              "      <td>0.000000</td>\n",
              "      <td>0.000000</td>\n",
              "    </tr>\n",
              "    <tr>\n",
              "      <th>25%</th>\n",
              "      <td>0.942658</td>\n",
              "      <td>0.760943</td>\n",
              "      <td>0.821985</td>\n",
              "      <td>0.214311</td>\n",
              "      <td>0.761060</td>\n",
              "      <td>0.255295</td>\n",
              "      <td>0.261980</td>\n",
              "      <td>0.783148</td>\n",
              "      <td>0.440626</td>\n",
              "      <td>0.497644</td>\n",
              "      <td>...</td>\n",
              "      <td>0.557798</td>\n",
              "      <td>0.484730</td>\n",
              "      <td>0.663030</td>\n",
              "      <td>0.334454</td>\n",
              "      <td>0.560105</td>\n",
              "      <td>0.372036</td>\n",
              "      <td>0.415203</td>\n",
              "      <td>0.312049</td>\n",
              "      <td>0.000218</td>\n",
              "      <td>0.000000</td>\n",
              "    </tr>\n",
              "    <tr>\n",
              "      <th>50%</th>\n",
              "      <td>0.958601</td>\n",
              "      <td>0.767949</td>\n",
              "      <td>0.840530</td>\n",
              "      <td>0.251050</td>\n",
              "      <td>0.765351</td>\n",
              "      <td>0.260263</td>\n",
              "      <td>0.265600</td>\n",
              "      <td>0.785625</td>\n",
              "      <td>0.461008</td>\n",
              "      <td>0.506800</td>\n",
              "      <td>...</td>\n",
              "      <td>0.561005</td>\n",
              "      <td>0.510347</td>\n",
              "      <td>0.665267</td>\n",
              "      <td>0.387756</td>\n",
              "      <td>0.578838</td>\n",
              "      <td>0.416932</td>\n",
              "      <td>0.416536</td>\n",
              "      <td>0.313352</td>\n",
              "      <td>0.000856</td>\n",
              "      <td>0.000000</td>\n",
              "    </tr>\n",
              "    <tr>\n",
              "      <th>75%</th>\n",
              "      <td>0.980645</td>\n",
              "      <td>0.775739</td>\n",
              "      <td>0.855214</td>\n",
              "      <td>0.284882</td>\n",
              "      <td>0.769836</td>\n",
              "      <td>0.267027</td>\n",
              "      <td>0.268831</td>\n",
              "      <td>0.788897</td>\n",
              "      <td>0.483350</td>\n",
              "      <td>0.518114</td>\n",
              "      <td>...</td>\n",
              "      <td>0.564484</td>\n",
              "      <td>0.534688</td>\n",
              "      <td>0.667626</td>\n",
              "      <td>0.441460</td>\n",
              "      <td>0.597593</td>\n",
              "      <td>0.464808</td>\n",
              "      <td>0.418191</td>\n",
              "      <td>0.314712</td>\n",
              "      <td>0.003004</td>\n",
              "      <td>0.000000</td>\n",
              "    </tr>\n",
              "    <tr>\n",
              "      <th>max</th>\n",
              "      <td>1.000000</td>\n",
              "      <td>1.000000</td>\n",
              "      <td>1.000000</td>\n",
              "      <td>1.000000</td>\n",
              "      <td>1.000000</td>\n",
              "      <td>1.000000</td>\n",
              "      <td>1.000000</td>\n",
              "      <td>1.000000</td>\n",
              "      <td>1.000000</td>\n",
              "      <td>1.000000</td>\n",
              "      <td>...</td>\n",
              "      <td>1.000000</td>\n",
              "      <td>1.000000</td>\n",
              "      <td>1.000000</td>\n",
              "      <td>1.000000</td>\n",
              "      <td>1.000000</td>\n",
              "      <td>1.000000</td>\n",
              "      <td>1.000000</td>\n",
              "      <td>1.000000</td>\n",
              "      <td>1.000000</td>\n",
              "      <td>1.000000</td>\n",
              "    </tr>\n",
              "  </tbody>\n",
              "</table>\n",
              "<p>8 rows × 30 columns</p>\n",
              "</div>"
            ],
            "text/plain": [
              "                  V1             V2             V3             V4   \n",
              "count  284807.000000  284807.000000  284807.000000  284807.000000  \\\n",
              "mean        0.958294       0.767258       0.837414       0.251930   \n",
              "std         0.033276       0.017424       0.026275       0.062764   \n",
              "min         0.000000       0.000000       0.000000       0.000000   \n",
              "25%         0.942658       0.760943       0.821985       0.214311   \n",
              "50%         0.958601       0.767949       0.840530       0.251050   \n",
              "75%         0.980645       0.775739       0.855214       0.284882   \n",
              "max         1.000000       1.000000       1.000000       1.000000   \n",
              "\n",
              "                  V5             V6             V7             V8   \n",
              "count  284807.000000  284807.000000  284807.000000  284807.000000  \\\n",
              "mean        0.765716       0.263020       0.265356       0.785385   \n",
              "std         0.009292       0.013395       0.007537       0.012812   \n",
              "min         0.000000       0.000000       0.000000       0.000000   \n",
              "25%         0.761060       0.255295       0.261980       0.783148   \n",
              "50%         0.765351       0.260263       0.265600       0.785625   \n",
              "75%         0.769836       0.267027       0.268831       0.788897   \n",
              "max         1.000000       1.000000       1.000000       1.000000   \n",
              "\n",
              "                  V9            V10  ...            V21            V22   \n",
              "count  284807.000000  284807.000000  ...  284807.000000  284807.000000  \\\n",
              "mean        0.462780       0.508722  ...       0.561480       0.510031   \n",
              "std         0.037846       0.022528  ...       0.011841       0.033854   \n",
              "min         0.000000       0.000000  ...       0.000000       0.000000   \n",
              "25%         0.440626       0.497644  ...       0.557798       0.484730   \n",
              "50%         0.461008       0.506800  ...       0.561005       0.510347   \n",
              "75%         0.483350       0.518114  ...       0.564484       0.534688   \n",
              "max         1.000000       1.000000  ...       1.000000       1.000000   \n",
              "\n",
              "                 V23            V24            V25            V26   \n",
              "count  284807.000000  284807.000000  284807.000000  284807.000000  \\\n",
              "mean        0.665434       0.382234       0.577907       0.425448   \n",
              "std         0.009274       0.081611       0.029261       0.078771   \n",
              "min         0.000000       0.000000       0.000000       0.000000   \n",
              "25%         0.663030       0.334454       0.560105       0.372036   \n",
              "50%         0.665267       0.387756       0.578838       0.416932   \n",
              "75%         0.667626       0.441460       0.597593       0.464808   \n",
              "max         1.000000       1.000000       1.000000       1.000000   \n",
              "\n",
              "                 V27            V28         Amount          class  \n",
              "count  284807.000000  284807.000000  284807.000000  284807.000000  \n",
              "mean        0.416511       0.313124       0.003439       0.001727  \n",
              "std         0.007450       0.006698       0.009736       0.041527  \n",
              "min         0.000000       0.000000       0.000000       0.000000  \n",
              "25%         0.415203       0.312049       0.000218       0.000000  \n",
              "50%         0.416536       0.313352       0.000856       0.000000  \n",
              "75%         0.418191       0.314712       0.003004       0.000000  \n",
              "max         1.000000       1.000000       1.000000       1.000000  \n",
              "\n",
              "[8 rows x 30 columns]"
            ]
          },
          "execution_count": 5,
          "metadata": {},
          "output_type": "execute_result"
        }
      ],
      "source": [
        "# Basic statistics\n",
        "df.describe()"
      ]
    },
    {
      "cell_type": "markdown",
      "metadata": {
        "id": "o01eQGAswlzy"
      },
      "source": [
        "### Inital Impressions:\n",
        "The dataset consists of transactions represented by 30 features.\n",
        "\n",
        "- **Features V1 to V28**: These appear to be the result of a Principal Component Analysis transformation, which is a common for anonymizing sensitive data and reducing\n",
        "\n",
        "- **Amount**: This feature likely represents the transaction amount $$. It has been normalized, which aligns with the rest of the dataset being prepared for machine learning tasks.\n",
        "\n",
        "- **Class**: This is the label for each transaction, where '0' indicates a normal transaction and '1' indicates a fraudulent transaction. A\n",
        "\n",
        "The data is already preprocessed to a large extent, with PCA applied to most features and normalization done. For unsupervised anomaly detection, we will primarily rely on the V1 to V28 features and possibly the Amount, observing how transactions cluster and identifying outliers as potential anomalies."
      ]
    },
    {
      "cell_type": "code",
      "execution_count": null,
      "metadata": {
        "id": "CCv8mGzIwlzy",
        "outputId": "3633a336-9986-49e9-e753-fd83aa8da802"
      },
      "outputs": [
        {
          "data": {
            "image/png": "[encoded data removed]",
            "text/plain": [
              "<Figure size 1000x800 with 2 Axes>"
            ]
          },
          "metadata": {},
          "output_type": "display_data"
        },
        {
          "data": {
            "text/plain": [
              "(V1        0\n",
              " V2        0\n",
              " V3        0\n",
              " V4        0\n",
              " V5        0\n",
              " V6        0\n",
              " V7        0\n",
              " V8        0\n",
              " V9        0\n",
              " V10       0\n",
              " V11       0\n",
              " V12       0\n",
              " V13       0\n",
              " V14       0\n",
              " V15       0\n",
              " V16       0\n",
              " V17       0\n",
              " V18       0\n",
              " V19       0\n",
              " V20       0\n",
              " V21       0\n",
              " V22       0\n",
              " V23       0\n",
              " V24       0\n",
              " V25       0\n",
              " V26       0\n",
              " V27       0\n",
              " V28       0\n",
              " Amount    0\n",
              " class     0\n",
              " dtype: int64,\n",
              "                   V1             V2             V3             V4   \n",
              " count  284807.000000  284807.000000  284807.000000  284807.000000  \\\n",
              " mean        0.958294       0.767258       0.837414       0.251930   \n",
              " std         0.033276       0.017424       0.026275       0.062764   \n",
              " min         0.000000       0.000000       0.000000       0.000000   \n",
              " 25%         0.942658       0.760943       0.821985       0.214311   \n",
              " \n",
              "                   V5             V6             V7             V8   \n",
              " count  284807.000000  284807.000000  284807.000000  284807.000000  \\\n",
              " mean        0.765716       0.263020       0.265356       0.785385   \n",
              " std         0.009292       0.013395       0.007537       0.012812   \n",
              " min         0.000000       0.000000       0.000000       0.000000   \n",
              " 25%         0.761060       0.255295       0.261980       0.783148   \n",
              " \n",
              "                   V9            V10  ...            V21            V22   \n",
              " count  284807.000000  284807.000000  ...  284807.000000  284807.000000  \\\n",
              " mean        0.462780       0.508722  ...       0.561480       0.510031   \n",
              " std         0.037846       0.022528  ...       0.011841       0.033854   \n",
              " min         0.000000       0.000000  ...       0.000000       0.000000   \n",
              " 25%         0.440626       0.497644  ...       0.557798       0.484730   \n",
              " \n",
              "                  V23            V24            V25            V26   \n",
              " count  284807.000000  284807.000000  284807.000000  284807.000000  \\\n",
              " mean        0.665434       0.382234       0.577907       0.425448   \n",
              " std         0.009274       0.081611       0.029261       0.078771   \n",
              " min         0.000000       0.000000       0.000000       0.000000   \n",
              " 25%         0.663030       0.334454       0.560105       0.372036   \n",
              " \n",
              "                  V27            V28         Amount          class  \n",
              " count  284807.000000  284807.000000  284807.000000  284807.000000  \n",
              " mean        0.416511       0.313124       0.003439       0.001727  \n",
              " std         0.007450       0.006698       0.009736       0.041527  \n",
              " min         0.000000       0.000000       0.000000       0.000000  \n",
              " 25%         0.415203       0.312049       0.000218       0.000000  \n",
              " \n",
              " [5 rows x 30 columns])"
            ]
          },
          "execution_count": 6,
          "metadata": {},
          "output_type": "execute_result"
        }
      ],
      "source": [
        "# Further exploration:\n",
        "\n",
        "# Check for missing values\n",
        "missing_values = df.isnull().sum()\n",
        "\n",
        "# Summary statistics\n",
        "summary_statistics = df.describe()\n",
        "\n",
        "# Correlation matrix to see potential relationships between features\n",
        "correlation_matrix = df.corr()\n",
        "\n",
        "# Plotting the correlation matrix\n",
        "plt.figure(figsize=(10, 8))\n",
        "sns.heatmap(correlation_matrix, cmap='coolwarm', annot=False, lw=0.5)\n",
        "plt.title('Correlation Matrix of Features')\n",
        "plt.show()\n",
        "\n",
        "missing_values, summary_statistics.head()"
      ]
    },
    {
      "cell_type": "markdown",
      "metadata": {
        "id": "Ou8yr7tCwlzy"
      },
      "source": [
        "### Data exploration insights\n",
        "\n",
        "- **Missing Values**: There are no missing values in any of the features, which simplifies the preprocessing step as no imputation is required.\n",
        "\n",
        "- **Summary Statistics**:\n",
        "  - The features `V1` to `V28`, resulting from PCA, have varying means and standard deviations, indicating differing scales of variance. This aligns with the expectation that PCA components capture different amounts of variance in the data.\n",
        "  - The `Amount` feature, representing transaction amounts, has been normalized, with a mean significantly lower than 1, reflecting the fact that transaction amounts vary widely and have been scaled down.\n",
        "  - The `class` feature indicates a very low mean (~0.0017), which confirms the dataset's imbalanced nature, with fraudulent transactions being much less common than legitimate ones.\n",
        "\n",
        "- **Correlation Matrix**:\n",
        "  - The heatmap of the correlation matrix does not show strong correlations among the PCA features, which is expected since PCA aims to remove multicollinearity by constructing orthogonal (independent) components.\n",
        "  - The lack of strong correlations suggests that these features might independently contribute to any model's ability to distinguish between normal and anomalous transactions."
      ]
    },
    {
      "cell_type": "markdown",
      "metadata": {
        "id": "mldRPlAwwlzy"
      },
      "source": [
        "## 2. Preprocessing: Split the data"
      ]
    },
    {
      "cell_type": "code",
      "execution_count": null,
      "metadata": {
        "id": "dTQSxXXGwlzy",
        "outputId": "51c9a2ca-b7cb-47c5-f02f-a7378193ad1c"
      },
      "outputs": [
        {
          "data": {
            "text/plain": [
              "((227845, 29), (56962, 29), (227845,), (56962,))"
            ]
          },
          "execution_count": 7,
          "metadata": {},
          "output_type": "execute_result"
        }
      ],
      "source": [
        "# Since it's unsupervised learning, we won't use 'class' for splitting but it's useful for later evaluation\n",
        "X = df.drop('class', axis=1)  # Features\n",
        "y = df['class']  # Labels for evaluation purposes\n",
        "\n",
        "# Splitting the dataset into training and testing sets\n",
        "X_train, X_test, y_train, y_test = train_test_split(X, y, test_size=0.2, random_state=42, stratify=y)\n",
        "\n",
        "# Check the shape of the splits to confirm the operation\n",
        "X_train.shape, X_test.shape, y_train.shape, y_test.shape"
      ]
    },
    {
      "cell_type": "markdown",
      "metadata": {
        "id": "vJMZ-o9Pwlzz"
      },
      "source": [
        "## 4. K-Means Model\n",
        "- Determineing optimal K clusters\n",
        "- Train the K-Means model"
      ]
    },
    {
      "cell_type": "code",
      "execution_count": null,
      "metadata": {
        "id": "4IiPMR_nwlzz",
        "outputId": "de0c5385-cdca-445a-f26b-945a15977424"
      },
      "outputs": [
        {
          "name": "stdout",
          "output_type": "stream",
          "text": [
            "Training KMeans with k=2...\n"
          ]
        },
        {
          "name": "stderr",
          "output_type": "stream",
          "text": [
            "/Library/Frameworks/Python.framework/Versions/3.11/lib/python3.11/site-packages/sklearn/cluster/_kmeans.py:870: FutureWarning: The default value of `n_init` will change from 10 to 'auto' in 1.4. Set the value of `n_init` explicitly to suppress the warning\n",
            "  warnings.warn(\n"
          ]
        },
        {
          "name": "stdout",
          "output_type": "stream",
          "text": [
            "Inertia for k=2: 10255.962265777027\n",
            "Training KMeans with k=3...\n"
          ]
        },
        {
          "name": "stderr",
          "output_type": "stream",
          "text": [
            "/Library/Frameworks/Python.framework/Versions/3.11/lib/python3.11/site-packages/sklearn/cluster/_kmeans.py:870: FutureWarning: The default value of `n_init` will change from 10 to 'auto' in 1.4. Set the value of `n_init` explicitly to suppress the warning\n",
            "  warnings.warn(\n"
          ]
        },
        {
          "name": "stdout",
          "output_type": "stream",
          "text": [
            "Inertia for k=3: 9560.191902970933\n",
            "Silhouette Score for k=3: 0.0906620112830195\n",
            "Training KMeans with k=4...\n"
          ]
        },
        {
          "name": "stderr",
          "output_type": "stream",
          "text": [
            "/Library/Frameworks/Python.framework/Versions/3.11/lib/python3.11/site-packages/sklearn/cluster/_kmeans.py:870: FutureWarning: The default value of `n_init` will change from 10 to 'auto' in 1.4. Set the value of `n_init` explicitly to suppress the warning\n",
            "  warnings.warn(\n"
          ]
        },
        {
          "name": "stdout",
          "output_type": "stream",
          "text": [
            "Inertia for k=4: 9000.719664543785\n",
            "Silhouette Score for k=4: 0.08742083470012227\n",
            "Training KMeans with k=5...\n"
          ]
        },
        {
          "name": "stderr",
          "output_type": "stream",
          "text": [
            "/Library/Frameworks/Python.framework/Versions/3.11/lib/python3.11/site-packages/sklearn/cluster/_kmeans.py:870: FutureWarning: The default value of `n_init` will change from 10 to 'auto' in 1.4. Set the value of `n_init` explicitly to suppress the warning\n",
            "  warnings.warn(\n"
          ]
        },
        {
          "name": "stdout",
          "output_type": "stream",
          "text": [
            "Inertia for k=5: 8646.9719451076\n",
            "Silhouette Score for k=5: 0.08558545010700133\n",
            "Training KMeans with k=6...\n"
          ]
        },
        {
          "name": "stderr",
          "output_type": "stream",
          "text": [
            "/Library/Frameworks/Python.framework/Versions/3.11/lib/python3.11/site-packages/sklearn/cluster/_kmeans.py:870: FutureWarning: The default value of `n_init` will change from 10 to 'auto' in 1.4. Set the value of `n_init` explicitly to suppress the warning\n",
            "  warnings.warn(\n"
          ]
        },
        {
          "name": "stdout",
          "output_type": "stream",
          "text": [
            "Inertia for k=6: 8333.414417129927\n",
            "Silhouette Score for k=6: 0.08352290138048288\n",
            "Training KMeans with k=7...\n"
          ]
        },
        {
          "name": "stderr",
          "output_type": "stream",
          "text": [
            "/Library/Frameworks/Python.framework/Versions/3.11/lib/python3.11/site-packages/sklearn/cluster/_kmeans.py:870: FutureWarning: The default value of `n_init` will change from 10 to 'auto' in 1.4. Set the value of `n_init` explicitly to suppress the warning\n",
            "  warnings.warn(\n"
          ]
        },
        {
          "name": "stdout",
          "output_type": "stream",
          "text": [
            "Inertia for k=7: 8028.8672490550225\n",
            "Silhouette Score for k=7: 0.09391740617399394\n",
            "Training KMeans with k=8...\n"
          ]
        },
        {
          "name": "stderr",
          "output_type": "stream",
          "text": [
            "/Library/Frameworks/Python.framework/Versions/3.11/lib/python3.11/site-packages/sklearn/cluster/_kmeans.py:870: FutureWarning: The default value of `n_init` will change from 10 to 'auto' in 1.4. Set the value of `n_init` explicitly to suppress the warning\n",
            "  warnings.warn(\n"
          ]
        },
        {
          "name": "stdout",
          "output_type": "stream",
          "text": [
            "Inertia for k=8: 7777.681441585415\n",
            "Silhouette Score for k=8: 0.08982939092558574\n",
            "Training KMeans with k=9...\n"
          ]
        },
        {
          "name": "stderr",
          "output_type": "stream",
          "text": [
            "/Library/Frameworks/Python.framework/Versions/3.11/lib/python3.11/site-packages/sklearn/cluster/_kmeans.py:870: FutureWarning: The default value of `n_init` will change from 10 to 'auto' in 1.4. Set the value of `n_init` explicitly to suppress the warning\n",
            "  warnings.warn(\n"
          ]
        },
        {
          "name": "stdout",
          "output_type": "stream",
          "text": [
            "Inertia for k=9: 7549.856113616137\n",
            "Silhouette Score for k=9: 0.0917068259402204\n",
            "Training KMeans with k=10...\n"
          ]
        },
        {
          "name": "stderr",
          "output_type": "stream",
          "text": [
            "/Library/Frameworks/Python.framework/Versions/3.11/lib/python3.11/site-packages/sklearn/cluster/_kmeans.py:870: FutureWarning: The default value of `n_init` will change from 10 to 'auto' in 1.4. Set the value of `n_init` explicitly to suppress the warning\n",
            "  warnings.warn(\n"
          ]
        },
        {
          "name": "stdout",
          "output_type": "stream",
          "text": [
            "Inertia for k=10: 7393.529540175262\n",
            "Silhouette Score for k=10: 0.08110275686879716\n"
          ]
        },
        {
          "data": {
            "image/png": "[encoded data removed]",
            "text/plain": [
              "<Figure size 1000x500 with 1 Axes>"
            ]
          },
          "metadata": {},
          "output_type": "display_data"
        },
        {
          "data": {
            "image/png": "[encoded data removed]",
            "text/plain": [
              "<Figure size 1000x500 with 1 Axes>"
            ]
          },
          "metadata": {},
          "output_type": "display_data"
        }
      ],
      "source": [
        "# Determining the optimal number of clusters using the Elbow Method\n",
        "# Evaluate a range of cluster numbers to find the optimal one\n",
        "\n",
        "# Define the range of clusters to try\n",
        "\n",
        "k_range = range(2, 11)\n",
        "\n",
        "inertias = []  # To store the inertias for each k\n",
        "silhouette_scores = []  # To store silhouette scores for each k\n",
        "\n",
        "for k in k_range:\n",
        "    print(f\"Training KMeans with k={k}...\")\n",
        "    kmeans = KMeans(n_clusters=k, random_state=42)\n",
        "    kmeans.fit(X_train)\n",
        "    inertia = kmeans.inertia_\n",
        "    inertias.append(inertia)\n",
        "    print(f\"Inertia for k={k}: {inertia}\")\n",
        "    # Calculating silhouette scores only for k > 2, as silhouette score cannot be calculated for k=1\n",
        "    if k > 2:\n",
        "        silhouette_score_value = silhouette_score(X_train, kmeans.labels_)\n",
        "        silhouette_scores.append(silhouette_score_value)\n",
        "        print(f\"Silhouette Score for k={k}: {silhouette_score_value}\")\n",
        "\n",
        "# Plotting the Elbow Graph for Inertia\n",
        "plt.figure(figsize=(10, 5))\n",
        "plt.plot(k_range, inertias, marker='o')\n",
        "plt.title('Elbow Method For Optimal k (Inertia)')\n",
        "plt.xlabel('Number of clusters')\n",
        "plt.ylabel('Inertia')\n",
        "plt.xticks(k_range)\n",
        "plt.grid(True)\n",
        "plt.show()\n",
        "\n",
        "# Plotting Silhouette Scores\n",
        "if silhouette_scores:\n",
        "    plt.figure(figsize=(10, 5))\n",
        "    # Adjusted k_range to match the length of silhouette_scores\n",
        "    plt.plot(k_range[1:], silhouette_scores, marker='o')  # Corrected to k_range[1:] to align with silhouette_scores\n",
        "    plt.title('Silhouette Score For Various k')\n",
        "    plt.xlabel('Number of clusters')\n",
        "    plt.ylabel('Silhouette Score')\n",
        "    plt.xticks(k_range[1:])  # Adjusted to start from the second element\n",
        "    plt.grid(True)\n",
        "    plt.show()\n",
        "\n"
      ]
    },
    {
      "cell_type": "markdown",
      "metadata": {
        "id": "Kvqu5qXQwlzz"
      },
      "source": [
        "Given the results I obtained, where 7 clusters have the highest silhouette score and 10 clusters have the lowest score, this suggests that:\n",
        "\n",
        "- 7 Clusters: This configuration likely provides a good balance of cohesion and separation, making it a suitable choice for the dataset. The data points in each of the 7 clusters are, on average, closer to other points in the same cluster and farther from points in other clusters. This could indicate a more meaningful grouping that captures the inherent structure of the data well.\n",
        "\n",
        "- 10 Clusters: The lower silhouette score for 10 clusters suggests that this configuration may lead to over-segmentation, where the additional clusters do not contribute to a meaningful separation of the data. It could be that some clusters are too close to each other, or some clusters contain points that are not as well related, leading to a decrease in the average silhouette score."
      ]
    },
    {
      "cell_type": "markdown",
      "metadata": {
        "id": "q0Wt9YYOwlzz"
      },
      "source": [
        "## 5. Anomaly Detection"
      ]
    },
    {
      "cell_type": "code",
      "execution_count": null,
      "metadata": {
        "id": "hPkf8K6Ewlzz",
        "outputId": "b45879ad-fc5f-40a2-a825-666ca7703356"
      },
      "outputs": [
        {
          "name": "stderr",
          "output_type": "stream",
          "text": [
            "/Library/Frameworks/Python.framework/Versions/3.11/lib/python3.11/site-packages/sklearn/cluster/_kmeans.py:870: FutureWarning: The default value of `n_init` will change from 10 to 'auto' in 1.4. Set the value of `n_init` explicitly to suppress the warning\n",
            "  warnings.warn(\n"
          ]
        },
        {
          "data": {
            "text/html": [
              "<style>#sk-container-id-2 {color: black;background-color: white;}#sk-container-id-2 pre{padding: 0;}#sk-container-id-2 div.sk-toggleable {background-color: white;}#sk-container-id-2 label.sk-toggleable__label {cursor: pointer;display: block;width: 100%;margin-bottom: 0;padding: 0.3em;box-sizing: border-box;text-align: center;}#sk-container-id-2 label.sk-toggleable__label-arrow:before {content: \"▸\";float: left;margin-right: 0.25em;color: #696969;}#sk-container-id-2 label.sk-toggleable__label-arrow:hover:before {color: black;}#sk-container-id-2 div.sk-estimator:hover label.sk-toggleable__label-arrow:before {color: black;}#sk-container-id-2 div.sk-toggleable__content {max-height: 0;max-width: 0;overflow: hidden;text-align: left;background-color: #f0f8ff;}#sk-container-id-2 div.sk-toggleable__content pre {margin: 0.2em;color: black;border-radius: 0.25em;background-color: #f0f8ff;}#sk-container-id-2 input.sk-toggleable__control:checked~div.sk-toggleable__content {max-height: 200px;max-width: 100%;overflow: auto;}#sk-container-id-2 input.sk-toggleable__control:checked~label.sk-toggleable__label-arrow:before {content: \"▾\";}#sk-container-id-2 div.sk-estimator input.sk-toggleable__control:checked~label.sk-toggleable__label {background-color: #d4ebff;}#sk-container-id-2 div.sk-label input.sk-toggleable__control:checked~label.sk-toggleable__label {background-color: #d4ebff;}#sk-container-id-2 input.sk-hidden--visually {border: 0;clip: rect(1px 1px 1px 1px);clip: rect(1px, 1px, 1px, 1px);height: 1px;margin: -1px;overflow: hidden;padding: 0;position: absolute;width: 1px;}#sk-container-id-2 div.sk-estimator {font-family: monospace;background-color: #f0f8ff;border: 1px dotted black;border-radius: 0.25em;box-sizing: border-box;margin-bottom: 0.5em;}#sk-container-id-2 div.sk-estimator:hover {background-color: #d4ebff;}#sk-container-id-2 div.sk-parallel-item::after {content: \"\";width: 100%;border-bottom: 1px solid gray;flex-grow: 1;}#sk-container-id-2 div.sk-label:hover label.sk-toggleable__label {background-color: #d4ebff;}#sk-container-id-2 div.sk-serial::before {content: \"\";position: absolute;border-left: 1px solid gray;box-sizing: border-box;top: 0;bottom: 0;left: 50%;z-index: 0;}#sk-container-id-2 div.sk-serial {display: flex;flex-direction: column;align-items: center;background-color: white;padding-right: 0.2em;padding-left: 0.2em;position: relative;}#sk-container-id-2 div.sk-item {position: relative;z-index: 1;}#sk-container-id-2 div.sk-parallel {display: flex;align-items: stretch;justify-content: center;background-color: white;position: relative;}#sk-container-id-2 div.sk-item::before, #sk-container-id-2 div.sk-parallel-item::before {content: \"\";position: absolute;border-left: 1px solid gray;box-sizing: border-box;top: 0;bottom: 0;left: 50%;z-index: -1;}#sk-container-id-2 div.sk-parallel-item {display: flex;flex-direction: column;z-index: 1;position: relative;background-color: white;}#sk-container-id-2 div.sk-parallel-item:first-child::after {align-self: flex-end;width: 50%;}#sk-container-id-2 div.sk-parallel-item:last-child::after {align-self: flex-start;width: 50%;}#sk-container-id-2 div.sk-parallel-item:only-child::after {width: 0;}#sk-container-id-2 div.sk-dashed-wrapped {border: 1px dashed gray;margin: 0 0.4em 0.5em 0.4em;box-sizing: border-box;padding-bottom: 0.4em;background-color: white;}#sk-container-id-2 div.sk-label label {font-family: monospace;font-weight: bold;display: inline-block;line-height: 1.2em;}#sk-container-id-2 div.sk-label-container {text-align: center;}#sk-container-id-2 div.sk-container {/* jupyter's `normalize.less` sets `[hidden] { display: none; }` but bootstrap.min.css set `[hidden] { display: none !important; }` so we also need the `!important` here to be able to override the default hidden behavior on the sphinx rendered scikit-learn.org. See: https://github.com/scikit-learn/scikit-learn/issues/21755 */display: inline-block !important;position: relative;}#sk-container-id-2 div.sk-text-repr-fallback {display: none;}</style><div id=\"sk-container-id-2\" class=\"sk-top-container\"><div class=\"sk-text-repr-fallback\"><pre>KMeans(n_clusters=7, random_state=42)</pre><b>In a Jupyter environment, please rerun this cell to show the HTML representation or trust the notebook. <br />On GitHub, the HTML representation is unable to render, please try loading this page with nbviewer.org.</b></div><div class=\"sk-container\" hidden><div class=\"sk-item\"><div class=\"sk-estimator sk-toggleable\"><input class=\"sk-toggleable__control sk-hidden--visually\" id=\"sk-estimator-id-2\" type=\"checkbox\" checked><label for=\"sk-estimator-id-2\" class=\"sk-toggleable__label sk-toggleable__label-arrow\">KMeans</label><div class=\"sk-toggleable__content\"><pre>KMeans(n_clusters=7, random_state=42)</pre></div></div></div></div></div>"
            ],
            "text/plain": [
              "KMeans(n_clusters=7, random_state=42)"
            ]
          },
          "execution_count": 11,
          "metadata": {},
          "output_type": "execute_result"
        }
      ],
      "source": [
        "# train the k-means model with the optimal number of clusters (7) on the training data\n",
        "kmeans = KMeans(n_clusters=7, random_state=42)\n",
        "kmeans.fit(X_train)"
      ]
    },
    {
      "cell_type": "code",
      "execution_count": null,
      "metadata": {
        "id": "Ajrhzj-6wlzz"
      },
      "outputs": [],
      "source": [
        "# detecting anomalies\n",
        "\n",
        "# Calculate the distance of each point in the train set from its nearest cluster center\n",
        "distances = cdist(X_train, kmeans.cluster_centers_, 'euclidean')\n",
        "min_distances = np.min(distances, axis=1)\n",
        "threshold = np.mean(min_distances) + 3 * np.std(min_distances)\n",
        "\n",
        "# Identifying points that are farther than this threshold as anomalies\n",
        "anomalies_train = min_distances > threshold\n",
        "\n",
        "# Repeat the process for the test set\n",
        "distances_test = cdist(X_test, kmeans.cluster_centers_, 'euclidean')\n",
        "min_distances_test = np.min(distances_test, axis=1)\n",
        "anomalies_test = min_distances_test > threshold"
      ]
    },
    {
      "cell_type": "code",
      "execution_count": null,
      "metadata": {
        "id": "GF0A19H_wlz0",
        "outputId": "6d00b05a-2f15-4756-9226-66e694d02cdc"
      },
      "outputs": [
        {
          "name": "stdout",
          "output_type": "stream",
          "text": [
            "Evaluation on Training Set:\n",
            "              precision    recall  f1-score   support\n",
            "\n",
            "           0       1.00      0.99      1.00    227451\n",
            "           1       0.14      0.78      0.23       394\n",
            "\n",
            "    accuracy                           0.99    227845\n",
            "   macro avg       0.57      0.89      0.61    227845\n",
            "weighted avg       1.00      0.99      0.99    227845\n",
            "\n",
            "Evaluation on Test Set:\n",
            "              precision    recall  f1-score   support\n",
            "\n",
            "           0       1.00      0.99      1.00     56864\n",
            "           1       0.13      0.81      0.23        98\n",
            "\n",
            "    accuracy                           0.99     56962\n",
            "   macro avg       0.57      0.90      0.61     56962\n",
            "weighted avg       1.00      0.99      0.99     56962\n",
            "\n"
          ]
        }
      ],
      "source": [
        "# Evaluating the anomaly detection on the training set\n",
        "print(\"Evaluation on Training Set:\")\n",
        "print(classification_report(y_train, anomalies_train))\n",
        "\n",
        "# Evaluating the anomaly detection on the test set\n",
        "print(\"Evaluation on Test Set:\")\n",
        "print(classification_report(y_test, anomalies_test))"
      ]
    },
    {
      "cell_type": "markdown",
      "metadata": {
        "id": "ZsGDsYmgwlz0"
      },
      "source": [
        "### Analysis of Metrics:\n",
        "\n",
        "### Training Set Evaluation:\n",
        "- **Precision for Class 0 (Normal Transactions)**: Almost perfect at 1.00, indicating that nearly all transactions predicted as normal are indeed normal.\n",
        "- **Recall for Class 0**: Also very high at 0.99, meaning the model successfully identifies 99% of all normal transactions.\n",
        "- **Precision for Class 1 (Anomalous/Fraudulent Transactions)**: Quite low at 0.14, suggesting that only 14% of transactions predicted as anomalies are actually fraudulent. This is indicative of a high false positive rate.\n",
        "- **Recall for Class 1**: Impressively high at 0.78, indicating that the model is able to identify 78% of all fraudulent transactions as anomalies.\n",
        "- **Overall Accuracy**: Stands at 0.99, which seems excellent but is somewhat misleading due to the imbalanced nature of the dataset (where the vast majority of transactions are normal).\n",
        "\n",
        "### Test Set Evaluation:\n",
        "- **Precision for Class 0**: Remains high at 1.00, consistent with the training set, indicating good performance on normal transactions.\n",
        "- **Recall for Class 0**: Similar to the training set at 0.99, showing the model's effectiveness in identifying normal transactions.\n",
        "- **Precision for Class 1**: Again low at 0.13, indicating a significant number of false positives among the anomalies detected.\n",
        "- **Recall for Class 1**: Very high at 0.81, even slightly better than the training set, showing the model's strength in catching fraudulent transactions.\n",
        "- **Overall Accuracy**: As with the training set, is 0.99 due to the dataset's imbalance.\n",
        "\n",
        "### Analysis:\n",
        "- The high recall for fraudulent transactions (Class 1) in both the training and test sets is promising, as it indicates the model's capability to detect a high proportion of actual fraudulent activities.\n",
        "- However, the low precision for Class 1 reflects a high number of false positives; that is, many normal transactions are incorrectly flagged as anomalies. This is a common challenge in anomaly detection, especially in highly imbalanced datasets like this one.\n",
        "- The overall accuracy metric, while seemingly high, is not the best indicator of performance for imbalanced datasets. The high accuracy is largely due to the model's ability to identify the overwhelming majority of transactions correctly as normal.\n",
        "- The macro averages for precision, recall, and f1-score provide a more balanced view of the model's performance across both classes, taking the imbalance into account. The scores indicate that there's a significant trade-off between recall and precision, especially for the anomalous class.\n"
      ]
    },
    {
      "cell_type": "markdown",
      "metadata": {
        "id": "I7EVC9yjwlz0"
      },
      "source": [
        "## 6. Applying Other Anomaly Detection Method"
      ]
    },
    {
      "cell_type": "markdown",
      "metadata": {
        "id": "iHOKOYHrwlz0"
      },
      "source": [
        "Another popular and powerful method that I will use is the **Isolation Forest** algorithm. This algorithm i well-suited for detecting anomalies because it works by isolating outliers instead of modeling the normal points. It's based on the principle that anomalies are data points that are few and different, making them easier to isolate from the rest of the observations.\n",
        "\n"
      ]
    },
    {
      "cell_type": "code",
      "execution_count": null,
      "metadata": {
        "id": "J7ue81rDwlz0",
        "outputId": "9036dbfa-cba0-455d-b3a9-73f5ef5e5baf"
      },
      "outputs": [
        {
          "data": {
            "text/html": [
              "<style>#sk-container-id-3 {color: black;background-color: white;}#sk-container-id-3 pre{padding: 0;}#sk-container-id-3 div.sk-toggleable {background-color: white;}#sk-container-id-3 label.sk-toggleable__label {cursor: pointer;display: block;width: 100%;margin-bottom: 0;padding: 0.3em;box-sizing: border-box;text-align: center;}#sk-container-id-3 label.sk-toggleable__label-arrow:before {content: \"▸\";float: left;margin-right: 0.25em;color: #696969;}#sk-container-id-3 label.sk-toggleable__label-arrow:hover:before {color: black;}#sk-container-id-3 div.sk-estimator:hover label.sk-toggleable__label-arrow:before {color: black;}#sk-container-id-3 div.sk-toggleable__content {max-height: 0;max-width: 0;overflow: hidden;text-align: left;background-color: #f0f8ff;}#sk-container-id-3 div.sk-toggleable__content pre {margin: 0.2em;color: black;border-radius: 0.25em;background-color: #f0f8ff;}#sk-container-id-3 input.sk-toggleable__control:checked~div.sk-toggleable__content {max-height: 200px;max-width: 100%;overflow: auto;}#sk-container-id-3 input.sk-toggleable__control:checked~label.sk-toggleable__label-arrow:before {content: \"▾\";}#sk-container-id-3 div.sk-estimator input.sk-toggleable__control:checked~label.sk-toggleable__label {background-color: #d4ebff;}#sk-container-id-3 div.sk-label input.sk-toggleable__control:checked~label.sk-toggleable__label {background-color: #d4ebff;}#sk-container-id-3 input.sk-hidden--visually {border: 0;clip: rect(1px 1px 1px 1px);clip: rect(1px, 1px, 1px, 1px);height: 1px;margin: -1px;overflow: hidden;padding: 0;position: absolute;width: 1px;}#sk-container-id-3 div.sk-estimator {font-family: monospace;background-color: #f0f8ff;border: 1px dotted black;border-radius: 0.25em;box-sizing: border-box;margin-bottom: 0.5em;}#sk-container-id-3 div.sk-estimator:hover {background-color: #d4ebff;}#sk-container-id-3 div.sk-parallel-item::after {content: \"\";width: 100%;border-bottom: 1px solid gray;flex-grow: 1;}#sk-container-id-3 div.sk-label:hover label.sk-toggleable__label {background-color: #d4ebff;}#sk-container-id-3 div.sk-serial::before {content: \"\";position: absolute;border-left: 1px solid gray;box-sizing: border-box;top: 0;bottom: 0;left: 50%;z-index: 0;}#sk-container-id-3 div.sk-serial {display: flex;flex-direction: column;align-items: center;background-color: white;padding-right: 0.2em;padding-left: 0.2em;position: relative;}#sk-container-id-3 div.sk-item {position: relative;z-index: 1;}#sk-container-id-3 div.sk-parallel {display: flex;align-items: stretch;justify-content: center;background-color: white;position: relative;}#sk-container-id-3 div.sk-item::before, #sk-container-id-3 div.sk-parallel-item::before {content: \"\";position: absolute;border-left: 1px solid gray;box-sizing: border-box;top: 0;bottom: 0;left: 50%;z-index: -1;}#sk-container-id-3 div.sk-parallel-item {display: flex;flex-direction: column;z-index: 1;position: relative;background-color: white;}#sk-container-id-3 div.sk-parallel-item:first-child::after {align-self: flex-end;width: 50%;}#sk-container-id-3 div.sk-parallel-item:last-child::after {align-self: flex-start;width: 50%;}#sk-container-id-3 div.sk-parallel-item:only-child::after {width: 0;}#sk-container-id-3 div.sk-dashed-wrapped {border: 1px dashed gray;margin: 0 0.4em 0.5em 0.4em;box-sizing: border-box;padding-bottom: 0.4em;background-color: white;}#sk-container-id-3 div.sk-label label {font-family: monospace;font-weight: bold;display: inline-block;line-height: 1.2em;}#sk-container-id-3 div.sk-label-container {text-align: center;}#sk-container-id-3 div.sk-container {/* jupyter's `normalize.less` sets `[hidden] { display: none; }` but bootstrap.min.css set `[hidden] { display: none !important; }` so we also need the `!important` here to be able to override the default hidden behavior on the sphinx rendered scikit-learn.org. See: https://github.com/scikit-learn/scikit-learn/issues/21755 */display: inline-block !important;position: relative;}#sk-container-id-3 div.sk-text-repr-fallback {display: none;}</style><div id=\"sk-container-id-3\" class=\"sk-top-container\"><div class=\"sk-text-repr-fallback\"><pre>IsolationForest(random_state=42)</pre><b>In a Jupyter environment, please rerun this cell to show the HTML representation or trust the notebook. <br />On GitHub, the HTML representation is unable to render, please try loading this page with nbviewer.org.</b></div><div class=\"sk-container\" hidden><div class=\"sk-item\"><div class=\"sk-estimator sk-toggleable\"><input class=\"sk-toggleable__control sk-hidden--visually\" id=\"sk-estimator-id-3\" type=\"checkbox\" checked><label for=\"sk-estimator-id-3\" class=\"sk-toggleable__label sk-toggleable__label-arrow\">IsolationForest</label><div class=\"sk-toggleable__content\"><pre>IsolationForest(random_state=42)</pre></div></div></div></div></div>"
            ],
            "text/plain": [
              "IsolationForest(random_state=42)"
            ]
          },
          "execution_count": 18,
          "metadata": {},
          "output_type": "execute_result"
        }
      ],
      "source": [
        "# model training\n",
        "\n",
        "# Initialize the Isolation Forest model\n",
        "iso_forest = IsolationForest(n_estimators=100, contamination='auto', random_state=42)\n",
        "\n",
        "# Fit the model on the training data using the same split as the KMeans model\n",
        "iso_forest.fit(X_train)\n"
      ]
    },
    {
      "cell_type": "code",
      "execution_count": null,
      "metadata": {
        "id": "45N6uq-9wlz1"
      },
      "outputs": [],
      "source": [
        "# perform anomaly detection on the training and test sets\n",
        "\n",
        "# Predict anomalies on the training set\n",
        "y_pred_train = iso_forest.predict(X_train)\n",
        "# Convert predictions to match the original label format (1 for anomalies, 0 for normal)\n",
        "y_pred_train = (y_pred_train == -1).astype(int)\n",
        "\n",
        "# Predict anomalies on the test set\n",
        "y_pred_test = iso_forest.predict(X_test)\n",
        "# Convert predictions to match the original label format\n",
        "y_pred_test = (y_pred_test == -1).astype(int)\n",
        "\n"
      ]
    },
    {
      "cell_type": "code",
      "execution_count": null,
      "metadata": {
        "id": "F-b5WhV6wlz1",
        "outputId": "0cc04f0b-3bfb-4203-e27b-9060c27d4cfe"
      },
      "outputs": [
        {
          "name": "stdout",
          "output_type": "stream",
          "text": [
            "Evaluation on Training Set:\n",
            "              precision    recall  f1-score   support\n",
            "\n",
            "           0       1.00      0.96      0.98    227451\n",
            "           1       0.04      0.81      0.07       394\n",
            "\n",
            "    accuracy                           0.96    227845\n",
            "   macro avg       0.52      0.89      0.53    227845\n",
            "weighted avg       1.00      0.96      0.98    227845\n",
            "\n",
            "Evaluation on Test Set:\n",
            "              precision    recall  f1-score   support\n",
            "\n",
            "           0       1.00      0.96      0.98     56864\n",
            "           1       0.04      0.84      0.07        98\n",
            "\n",
            "    accuracy                           0.96     56962\n",
            "   macro avg       0.52      0.90      0.53     56962\n",
            "weighted avg       1.00      0.96      0.98     56962\n",
            "\n"
          ]
        }
      ],
      "source": [
        "# Evaluate the model\n",
        "\n",
        "# Evaluation on the training set\n",
        "print(\"Evaluation on Training Set:\")\n",
        "print(classification_report(y_train, y_pred_train))\n",
        "\n",
        "# Evaluation on the test set\n",
        "print(\"Evaluation on Test Set:\")\n",
        "print(classification_report(y_test, y_pred_test))\n"
      ]
    },
    {
      "cell_type": "markdown",
      "metadata": {
        "id": "JW-oGvlJwlz1"
      },
      "source": [
        "## Analysis of Metrics:\n",
        "\n",
        "### Training Set Evaluation:\n",
        "- **Precision for Class 0 (Normal Transactions)**: Remains high at 1.00, indicating excellent identification of normal transactions as normal.\n",
        "- **Recall for Class 0**: Lowered to 0.96, suggesting that 4% of normal transactions are incorrectly identified as anomalies, leading to a slightly higher false positive rate compared to the K-Means approach.\n",
        "- **Precision for Class 1 (Anomalous/Fraudulent Transactions)**: Very low at 0.04, meaning only 4% of transactions identified as anomalies are actually fraudulent. This indicates a higher false positive rate among detected anomalies.\n",
        "- **Recall for Class 1**: Significantly high at 0.81, showing the model's strong capability to detect fraudulent transactions among all actual fraudulent cases.\n",
        "- **Overall Accuracy**: Stands at 0.96, which is slightly lower than the K-Means approach due to the increased false positive rate.\n",
        "\n",
        "### Test Set Evaluation:\n",
        "- **Precision for Class 0**: Consistent with the training set at 1.00.\n",
        "- **Recall for Class 0**: Also consistent with the training set at 0.96.\n",
        "- **Precision for Class 1**: Matches the training set at 0.04, indicating a consistent pattern of a high number of false positives in anomaly detection.\n",
        "- **Recall for Class 1**: Extremely high at 0.84, slightly higher than the training set, indicating very effective identification of true anomalies.\n",
        "- **Overall Accuracy**: Similar to the training set at 0.96."
      ]
    },
    {
      "cell_type": "markdown",
      "metadata": {
        "id": "-VUzW_QKwlz1"
      },
      "source": [
        "## Comparison: K-means vs Isolation Forest\n",
        "Both K-Means and Isolation Forest have their strengths and weaknesses in anomaly detection:\n",
        "- **K-Means** provided a better balance between identifying normal and anomalous transactions, with a higher precision for anomalies but a slightly lower recall.\n",
        "- **Isolation Forest** excelled in identifying a high percentage of actual fraudulent transactions (high recall) but at the cost of a large number of false positives (low precision).\n",
        "\n",
        "In practical applications, the choice between these methods might come down to the specific requirements of the task:\n",
        "- If detecting as many frauds as possible is the priority, and the cost of investigating false positives is relatively low, Isolation Forest might be preferred due to its higher recall.\n",
        "- If minimizing false positives is crucial due to high investigation costs, one might lean towards K-Means or further tune the Isolation Forest parameters, like the contamination factor, to try and improve precision."
      ]
    }
  ],
  "metadata": {
    "colab": {
      "provenance": []
    },
    "kernelspec": {
      "display_name": "Python 3.8.13 ('ie')",
      "language": "python",
      "name": "python3"
    },
    "language_info": {
      "codemirror_mode": {
        "name": "ipython",
        "version": 3
      },
      "file_extension": ".py",
      "mimetype": "text/x-python",
      "name": "python",
      "nbconvert_exporter": "python",
      "pygments_lexer": "ipython3",
      "version": "3.11.3"
    },
    "orig_nbformat": 4,
    "vscode": {
      "interpreter": {
        "hash": "aabefc3a81ff71d22e79c910c13565d5b56128baa52886a9550231a214b71dcd"
      }
    }
  },
  "nbformat": 4,
  "nbformat_minor": 0
}
