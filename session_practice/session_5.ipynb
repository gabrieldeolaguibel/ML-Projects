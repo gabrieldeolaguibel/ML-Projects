{
 "cells": [
  {
   "cell_type": "code",
   "execution_count": 9,
   "metadata": {},
   "outputs": [
    {
     "name": "stdout",
     "output_type": "stream",
     "text": [
      "(1000, 10) (1000,)\n"
     ]
    }
   ],
   "source": [
    "from sklearn.datasets import make_classification\n",
    "# A). Create a random classification dataset with 1000 rows, 10 input variables and 3 classes.\n",
    "\n",
    "# define dataset\n",
    "X, y = make_classification(n_samples=1000, n_features=10, n_classes=3, random_state=1, n_clusters_per_class=1)\n",
    "\n",
    "# summarize the dataset\n",
    "print(X.shape, y.shape)\n",
    "\n",
    "\n"
   ]
  },
  {
   "cell_type": "code",
   "execution_count": 10,
   "metadata": {},
   "outputs": [],
   "source": [
    "# define a multinomial logistic regression model\n",
    "from sklearn.linear_model import LogisticRegression     \n",
    "model = LogisticRegression(multi_class='multinomial', solver='lbfgs')\n"
   ]
  },
  {
   "cell_type": "code",
   "execution_count": 13,
   "metadata": {},
   "outputs": [
    {
     "name": "stdout",
     "output_type": "stream",
     "text": [
      "0.8\n",
      "0.814\n",
      "0.78\n",
      "0.802\n",
      "0.796\n",
      "0.816\n",
      "0.808\n",
      "0.818\n",
      "0.822\n",
      "0.8\n",
      "0.832\n",
      "0.81\n",
      "0.786\n",
      "0.802\n",
      "0.804\n",
      "0.808\n",
      "0.81\n",
      "0.794\n",
      "0.818\n",
      "0.824\n",
      "0.794\n",
      "0.818\n",
      "0.83\n",
      "0.836\n",
      "0.802\n",
      "0.812\n",
      "0.786\n",
      "0.838\n",
      "0.772\n",
      "0.812\n",
      "0.812\n",
      "0.832\n",
      "0.804\n",
      "0.81\n",
      "0.802\n",
      "0.788\n",
      "0.808\n",
      "0.834\n",
      "0.822\n",
      "0.816\n",
      "0.814\n",
      "0.794\n",
      "0.816\n",
      "0.782\n",
      "0.8\n",
      "0.786\n",
      "0.8\n",
      "0.816\n",
      "0.826\n",
      "0.816\n",
      "0.804\n",
      "0.82\n",
      "0.808\n",
      "0.808\n",
      "0.828\n",
      "0.832\n",
      "0.81\n",
      "0.814\n",
      "0.792\n",
      "0.796\n",
      "0.83\n",
      "0.804\n",
      "0.812\n",
      "0.806\n",
      "0.812\n",
      "0.814\n",
      "0.808\n",
      "0.81\n",
      "0.798\n",
      "0.814\n",
      "0.806\n",
      "0.806\n",
      "0.832\n",
      "0.826\n",
      "0.816\n",
      "0.832\n",
      "0.812\n",
      "0.808\n",
      "0.8\n",
      "0.806\n",
      "0.812\n",
      "0.81\n",
      "0.812\n",
      "0.806\n",
      "0.83\n",
      "0.802\n",
      "0.798\n",
      "0.804\n",
      "0.808\n",
      "0.82\n",
      "0.792\n",
      "0.812\n",
      "0.82\n",
      "0.792\n",
      "0.806\n",
      "0.796\n",
      "0.812\n",
      "0.814\n",
      "0.792\n",
      "0.816\n",
      "0.8094\n"
     ]
    }
   ],
   "source": [
    "# Evaluate the model. Run the example 100 times and compare the average outcome\n",
    "\n",
    "from sklearn.metrics import accuracy_score\n",
    "\n",
    "# evaluate the model\n",
    "scores = []\n",
    "for i in range(100):\n",
    "    # split into train and test sets\n",
    "    from sklearn.model_selection import train_test_split\n",
    "    X_train, X_test, y_train, y_test = train_test_split(X, y, test_size=0.50)\n",
    "    # fit the model\n",
    "    model.fit(X_train, y_train)\n",
    "    # evaluate the model\n",
    "    yhat = model.predict(X_test)\n",
    "    # evaluate predictions\n",
    "    score = accuracy_score(y_test, yhat)\n",
    "    print(score)\n",
    "    scores.append(score)\n",
    "\n",
    "# average accuracy over 100 runs\n",
    "print(sum(scores)/len(scores))\n"
   ]
  },
  {
   "cell_type": "code",
   "execution_count": 12,
   "metadata": {},
   "outputs": [],
   "source": [
    "\n"
   ]
  }
 ],
 "metadata": {
  "kernelspec": {
   "display_name": "Python 3",
   "language": "python",
   "name": "python3"
  },
  "language_info": {
   "codemirror_mode": {
    "name": "ipython",
    "version": 3
   },
   "file_extension": ".py",
   "mimetype": "text/x-python",
   "name": "python",
   "nbconvert_exporter": "python",
   "pygments_lexer": "ipython3",
   "version": "3.11.3"
  }
 },
 "nbformat": 4,
 "nbformat_minor": 2
}
