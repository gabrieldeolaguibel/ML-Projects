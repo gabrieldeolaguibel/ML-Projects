{
 "cells": [
  {
   "cell_type": "markdown",
   "metadata": {},
   "source": [
    "## Here is the optional activity slide:\n",
    "![activity_diagram](optional_activity.png)"
   ]
  },
  {
   "cell_type": "markdown",
   "metadata": {},
   "source": [
    "#### In order to properly create the representation matrix needed. I followed a similar approach to the representation matrix from the 'Cat and mouse' activity. The step was for me to etablish numerical labels for each room of the house (including street and backyard).\n",
    "\n",
    "![activity_diagram](RL_optional_drawn.png)\n",
    "\n",
    "#### From there I established (first in human language) the rules of the room transitions:\n",
    "- Street: '0'. You can only move to room 1 from the street\n",
    "- Room 1: '1' You can only move to rooms 5,2 or back to 0 from room 1\n",
    "- Room 2:  '2' you can only move to rooms 1, 4 and 4 from room 2\n",
    "- Room 3: '3' you can only move to room 2 from room 3\n",
    "- Room 4: '4' you can only move room 2 or backyard (6) (backyard is the goal)\n",
    "- room 5: '5' You can only move to room from room 5\n",
    "- Room 6 (backyard): absorbing state"
   ]
  },
  {
   "cell_type": "markdown",
   "metadata": {},
   "source": [
    "### Following this, we can represent the transition matrix as follows:"
   ]
  },
  {
   "cell_type": "code",
   "execution_count": 1,
   "metadata": {},
   "outputs": [
    {
     "name": "stdout",
     "output_type": "stream",
     "text": [
      "[[0 1 0 0 0 0 0]\n",
      " [0 0 1 0 1 0 0]\n",
      " [0 1 0 0 0 1 0]\n",
      " [0 0 1 0 0 0 0]\n",
      " [0 0 0 0 0 0 1]\n",
      " [0 0 0 1 0 0 0]\n",
      " [0 0 0 0 0 0 1]]\n"
     ]
    }
   ],
   "source": [
    "import numpy as np\n",
    "\n",
    "# Transition matrix\n",
    "# each row represents a room state\n",
    "M = np.array([\n",
    "    [0, 1, 0, 0, 0, 0, 0],  # From Street (0) to Room 1\n",
    "    [1, 0, 1, 0, 1, 0, 0],  # From Room 1 to Room 2, Room 5 or back to street (0)\n",
    "    [0, 1, 0, 1, 1, 0, 0],  # From Room 2 to Room 1, Room 3, and Room 4\n",
    "    [0, 0, 1, 0, 0, 0, 0],  # From Room 3 to Room 2\n",
    "    [0, 0, 1, 0, 0, 0, 1],  # From Room 4 to Backyard (6) or back to 2\n",
    "    [0, 1, 0, 0, 0, 0, 0],  # From Room 5 to Room 1\n",
    "    [0, 0, 0, 0, 0, 0, 1],  # Backyard (6) is an absorbing state, once entered it doesn't transition out\n",
    "])\n",
    "\n",
    "print(M)"
   ]
  }
 ],
 "metadata": {
  "kernelspec": {
   "display_name": "Python 3",
   "language": "python",
   "name": "python3"
  },
  "language_info": {
   "codemirror_mode": {
    "name": "ipython",
    "version": 3
   },
   "file_extension": ".py",
   "mimetype": "text/x-python",
   "name": "python",
   "nbconvert_exporter": "python",
   "pygments_lexer": "ipython3",
   "version": "3.11.3"
  }
 },
 "nbformat": 4,
 "nbformat_minor": 2
}
